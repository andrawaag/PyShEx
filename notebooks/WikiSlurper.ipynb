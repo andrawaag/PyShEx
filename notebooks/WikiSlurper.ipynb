{
 "cells": [
  {
   "cell_type": "markdown",
   "metadata": {},
   "source": [
    "# Using the SPARQL Slurper to build graphs\n",
    "The following example uses a Wikidata ShEx definition to construct the minimal conforming graph from Wikidata.  The graph (`permagraph`) is then displayed\n",
    "\n",
    "Details:\n",
    "* -ss     - use the SparqlSlurper\n",
    "* -sq     - a query to find the first 100 items that are instances of wd:Q7397\n",
    "* http://query.wikidata.org/sparql   -- Wikidata SPARQL endpoint\n",
    "* https://raw.githubusercontent.com/shexSpec/schemas/master/Wikidata/DigitalPreservation/SWIB/software.shex - ShEx\n",
    "* --stopafter 1    -- only process one node (testing)\n",
    "* -ps              -- Print SPARQL queries"
   ]
  },
  {
   "cell_type": "code",
   "execution_count": 12,
   "metadata": {},
   "outputs": [],
   "source": [
    "from pyshex.shex_evaluator import evaluate_cli as shexeval\n",
    "from pyshex import shex_evaluator\n",
    "from sparql_slurper import SlurpyGraph"
   ]
  },
  {
   "cell_type": "code",
   "execution_count": 15,
   "metadata": {},
   "outputs": [
    {
     "name": "stdout",
     "output_type": "stream",
     "text": [
      "usage: ipykernel_launcher.py [-h] [-f FORMAT] [-s START] [-ut] [-sp STARTPREDICATE] [-fn FOCUS] [-A] [-d] [-ss] [-cf] [-sq SPARQL] [-se] [--stopafter STOPAFTER] [-ps] [-pr] [-gn GRAPHNAME] [-pb] rdf shex\n",
      "\n",
      "positional arguments:\n",
      "  rdf                   Input RDF file or SPARQL endpoint if slurper or sparql options\n",
      "  shex                  ShEx specification\n",
      "\n",
      "optional arguments:\n",
      "  -h, --help            show this help message and exit\n",
      "  -f FORMAT, --format FORMAT\n",
      "                        Input RDF Format\n",
      "  -s START, --start START\n",
      "                        Start shape. If absent use ShEx start node.\n",
      "  -ut, --usetype        Start shape is rdf:type of focus\n",
      "  -sp STARTPREDICATE, --startpredicate STARTPREDICATE\n",
      "                        Start shape is object of this predicate\n",
      "  -fn FOCUS, --focus FOCUS\n",
      "                        RDF focus node\n",
      "  -A, --allsubjects     Evaluate all non-bnode subjects in the graph\n",
      "  -d, --debug           Add debug output\n",
      "  -ss, --slurper        Use SPARQL slurper graph\n",
      "  -cf, --flattener      Use RDF Collections flattener graph\n",
      "  -sq SPARQL, --sparql SPARQL\n",
      "                        SPARQL query to generate focus nodes\n",
      "  -se, --stoponerror    Stop on an error\n",
      "  --stopafter STOPAFTER\n",
      "                        Stop after N nodes\n",
      "  -ps, --printsparql    Print SPARQL queries as they are executed\n",
      "  -pr, --printsparqlresults\n",
      "                        Print SPARQL query and results\n",
      "  -gn GRAPHNAME, --graphname GRAPHNAME\n",
      "                        Specific SPARQL graph to query - use '' for any named graph\n",
      "  -pb, --persistbnodes  Treat BNodes as persistent in SPARQL endpoint\n"
     ]
    },
    {
     "ename": "SystemExit",
     "evalue": "0",
     "output_type": "error",
     "traceback": [
      "An exception has occurred, use %tb to see the full traceback.\n",
      "\u001b[0;31mSystemExit\u001b[0m\u001b[0;31m:\u001b[0m 0\n"
     ]
    }
   ],
   "source": [
    "from pyshex.user_agent import SlurpyGraphWithAgent\n",
    "permagraph = None\n",
    "\n",
    "def persistent_slurper(rdf: str) -> SlurpyGraph:\n",
    "    global permagraph\n",
    "    permagraph = SlurpyGraphWithAgent(rdf)\n",
    "    return permagraph\n",
    "\n",
    "shex_evaluator.SlurpyGraph = persistent_slurper\n",
    "\n",
    "sparql_query = \"\"\"\n",
    "PREFIX wdt: <http://www.wikidata.org/prop/direct/>\n",
    "PREFIX wd: <http://www.wikidata.org/entity/>\n",
    "\n",
    "SELECT * WHERE {\n",
    "   ?item wdt:P699 ?doid .\n",
    "}\n",
    "\"\"\"\n",
    "# shexeval(['-h'])\n",
    "\n",
    "x = [\"-ss\",\n",
    "     \"-s\",  \"http://example.org/disease\",\n",
    "     \"-sq\", sparql_query,\n",
    "     \"http://query.wikidata.org/sparql\",\n",
    "     \"https://raw.githubusercontent.com/kg-subsetting/biohackathon2020/main/use_cases/genewiki/genewiki.shex\",\n",
    "     \"--stopafter\", \"1\",\n",
    "     \"-ps\"]\n",
    "shexeval(x)\n",
    "print()\n",
    "print(\"RESULT Graph:\")\n",
    "print(permagraph.serialize(format=\"turtle\").decode())\n"
   ]
  },
  {
   "cell_type": "code",
   "execution_count": null,
   "metadata": {},
   "outputs": [],
   "source": []
  }
 ],
 "metadata": {
  "kernelspec": {
   "display_name": "Python 3",
   "language": "python",
   "name": "python3"
  },
  "language_info": {
   "codemirror_mode": {
    "name": "ipython",
    "version": 3
   },
   "file_extension": ".py",
   "mimetype": "text/x-python",
   "name": "python",
   "nbconvert_exporter": "python",
   "pygments_lexer": "ipython3",
   "version": "3.8.3"
  },
  "pycharm": {
   "stem_cell": {
    "cell_type": "raw",
    "metadata": {
     "collapsed": false
    },
    "source": []
   }
  }
 },
 "nbformat": 4,
 "nbformat_minor": 2
}
